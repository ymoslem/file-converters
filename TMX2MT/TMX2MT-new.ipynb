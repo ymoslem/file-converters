{
  "cells": [
    {
      "cell_type": "markdown",
      "metadata": {
        "id": "view-in-github",
        "colab_type": "text"
      },
      "source": [
        "<a href=\"https://colab.research.google.com/github/ymoslem/file-converters/blob/main/TMX2MT/TMX2MT-new.ipynb\" target=\"_parent\"><img src=\"https://colab.research.google.com/assets/colab-badge.svg\" alt=\"Open In Colab\"/></a>"
      ]
    },
    {
      "cell_type": "markdown",
      "source": [
        "# Converting a TMX translation memory for MT training\n",
        "\n",
        "* Convert to Moses format\n",
        " * One text file per language, one sentence per line\n",
        "* Convert to GPT fine-tuning format\n",
        " * JSON lines (JSONL)"
      ],
      "metadata": {
        "id": "gI18OPy4DMlx"
      }
    },
    {
      "cell_type": "markdown",
      "source": [
        "# Converting XML to JSON\n",
        "\n",
        "* Initial step that is important for all formats"
      ],
      "metadata": {
        "id": "SjLATQ0sChAb"
      }
    },
    {
      "cell_type": "code",
      "execution_count": 1,
      "metadata": {
        "id": "e5fO_uG8WUQI"
      },
      "outputs": [],
      "source": [
        "!pip3 install xmltodict -q"
      ]
    },
    {
      "cell_type": "code",
      "source": [
        "!wget -qq --show-progress show http://optima.jrc.it/Resources/ECDC-TM/ECDC-TM.zip"
      ],
      "metadata": {
        "colab": {
          "base_uri": "https://localhost:8080/"
        },
        "id": "jdUEyaHijlJC",
        "outputId": "c527c012-6af7-497e-e4ce-48205f4d9f18"
      },
      "execution_count": 2,
      "outputs": [
        {
          "output_type": "stream",
          "name": "stdout",
          "text": [
            "ECDC-TM.zip         100%[===================>]   4.09M  5.39MB/s    in 0.8s    \n"
          ]
        }
      ]
    },
    {
      "cell_type": "code",
      "source": [
        "!unzip -q -n ECDC-TM.zip\n",
        "%cd ECDC-TM\n",
        "!ls"
      ],
      "metadata": {
        "colab": {
          "base_uri": "https://localhost:8080/"
        },
        "id": "SXmHivCbpoHZ",
        "outputId": "42adc646-27e5-44ce-ab7b-311cbc4bf9f4"
      },
      "execution_count": 3,
      "outputs": [
        {
          "output_type": "stream",
          "name": "stdout",
          "text": [
            "/content/ECDC-TM\n",
            "2012_10_ECDC-TM-Statistics.pdf\t  ECDC.tmx\n",
            "2012_10_Terms-of-Use_ECDC-TM.pdf  Readme_CreateLanguagePair.txt\n",
            "CreateLanguagePair.jar\t\t  Readme_ECDC-TM.txt\n",
            "ECDC-domains.xlsx\t\t  tmx14.dtd\n"
          ]
        }
      ]
    },
    {
      "cell_type": "code",
      "execution_count": 4,
      "metadata": {
        "id": "63THK9txXolI"
      },
      "outputs": [],
      "source": [
        "# Convert XML to JSON\n",
        "\n",
        "import json\n",
        "import xmltodict\n",
        "\n",
        "tmx_file = \"ECDC.tmx\"\n",
        "\n",
        "with open(\"ECDC.tmx\") as xml_file:\n",
        "  data_dict = xmltodict.parse(xml_file.read())"
      ]
    },
    {
      "cell_type": "code",
      "execution_count": 5,
      "metadata": {
        "colab": {
          "base_uri": "https://localhost:8080/"
        },
        "id": "PoRV9sqrYZd-",
        "outputId": "a3a0f1bc-6e9c-4d99-db69-beb57f355c6e"
      },
      "outputs": [
        {
          "output_type": "stream",
          "name": "stdout",
          "text": [
            "\n",
            "\n",
            "EN: Vaccination against hepatitis C is not yet available.\n",
            "BG: Засега няма ваксина срещу хепатит С.\n",
            "CS: Očkování proti hepatitidě C zatím není k dispozici.\n",
            "DA: Der findes endnu ingen vaccination mod hepatitis C.\n",
            "DE: Es gibt derzeit noch keinen Impfstoff gegen Hepatitis C.\n",
            "EL: Επί του παρόντος δεν διατίθεται εμβόλιο έναντι της ηπατίτιδας C.\n",
            "ES: Todavía no hay ninguna vacuna contra la hepatitis C.\n",
            "ET: C-hepatiidi vastast vaktsiini veel ei ole.\n",
            "FI: Hepatiitti C:hen ei ole vielä rokotetta.\n",
            "FR: Aucune vaccination contre l’hépatite C n’est encore disponible.\n",
            "GA: Níl vacsaíniú ar fáil fós i gcoinne heipitítis C.\n",
            "HU: A hepatitisz C ellen nincs még védőoltás.\n",
            "IS: Bólusetning gegn lifrarbólgu C er enn ekki til.\n",
            "IT: Non c'è ancora un vaccino per l'epatite C.\n",
            "LT: Vakcinos nuo hepatito C dar nėra.\n",
            "LV: Pagaidām pret hepatītu C nav iespējams vakcinēties.\n",
            "MT: It-tilqim kontra l-epatite Ċ għadu mhux disponibbli.\n",
            "NL: Er is nog geen vaccin tegen hepatitis C beschikbaar.\n",
            "NO: Det finnes foreløpig ingen vaksine mot hepatitt C, og sykdomsbyrden er høy.\n",
            "PL: Niestety nadal nie jest dostępna szczepionka przeciwko wirusowemu zapaleniu wątroby typu C.\n",
            "PT: De momento, não existe qualquer vacina disponível contra o vírus da hepatite C.\n",
            "RO: Nu există încă niciun vaccin disponibil împotriva hepatitei C.\n",
            "SK: Proti hepatitíde C nie je zatiaľ dostupné očkovanie.\n",
            "SL: Cepiva proti hepatitisu C še ni.\n",
            "SV: Det finns ännu inget vaccin mot hepatit C.\n",
            "\n",
            "\n",
            "EN: HIV infection\n",
            "BG: Инфекция с човешки имунодефицитен вирус (ХИВ)\n",
            "CS: Infekce HIV\n",
            "DA: HIV-infektion\n",
            "DE: HIV-Infektion\n",
            "EL: Λοίμωξη από τον ιό της ανοσολογικής ανεπάρκειας του ανθρώπου (HIV)\n",
            "ES: VIH, infección por el\n",
            "ET: HIV-nakkus\n",
            "FI: HIV-infektio\n",
            "FR: Infection à VIH\n",
            "GA: Ionfhabhtú VEID\n",
            "HU: HIV fertőzés\n",
            "IS: HIV smitun\n",
            "IT: Infezione da HIV\n",
            "LT: ŽIV infekcija\n",
            "LV: HIV infekcija\n",
            "MT: Infezzjoni HIV\n",
            "NL: Hiv-infectie\n",
            "NO: HIV-infeksjon\n",
            "PL: Zakażenie wirusem HIV\n",
            "PT: Infecção por VIH\n",
            "RO: Infecţia cu HIV\n",
            "SK: Infekcia HIV\n",
            "SL: Okužba s HIV\n",
            "SV: HIV-infektion\n"
          ]
        }
      ],
      "source": [
        "# Explore the TMX file\n",
        "\n",
        "for tu in data_dict[\"tmx\"][\"body\"][\"tu\"][:2]:\n",
        "  print(\"\\n\")\n",
        "  for unit in tu[\"tuv\"]:\n",
        "    language = unit[\"@xml:lang\"]\n",
        "    segment = unit[\"seg\"]\n",
        "    print(f\"{language}: {segment}\")"
      ]
    },
    {
      "cell_type": "code",
      "source": [
        "# Create a list of translation units\n",
        "\n",
        "data = [tu[\"tuv\"] for tu in data_dict[\"tmx\"][\"body\"][\"tu\"]]\n",
        "print(data[0:4])"
      ],
      "metadata": {
        "colab": {
          "base_uri": "https://localhost:8080/"
        },
        "id": "GO1HQRajDQly",
        "outputId": "08bdbc85-ee5f-483b-d5dc-cc21739bbaac"
      },
      "execution_count": 6,
      "outputs": [
        {
          "output_type": "stream",
          "name": "stdout",
          "text": [
            "[[{'@xml:lang': 'EN', 'seg': 'Vaccination against hepatitis C is not yet available.'}, {'@xml:lang': 'BG', 'seg': 'Засега няма ваксина срещу хепатит С.'}, {'@xml:lang': 'CS', 'seg': 'Očkování proti hepatitidě C zatím není k\\xa0dispozici.'}, {'@xml:lang': 'DA', 'seg': 'Der findes endnu ingen vaccination mod hepatitis C.'}, {'@xml:lang': 'DE', 'seg': 'Es gibt derzeit noch keinen Impfstoff gegen Hepatitis C.'}, {'@xml:lang': 'EL', 'seg': 'Επί του παρόντος δεν διατίθεται εμβόλιο έναντι της ηπατίτιδας C.'}, {'@xml:lang': 'ES', 'seg': 'Todavía no hay ninguna vacuna contra la hepatitis C.'}, {'@xml:lang': 'ET', 'seg': 'C-hepatiidi vastast vaktsiini veel ei ole.'}, {'@xml:lang': 'FI', 'seg': 'Hepatiitti C:hen ei ole vielä rokotetta.'}, {'@xml:lang': 'FR', 'seg': 'Aucune vaccination contre l’hépatite C n’est encore disponible.'}, {'@xml:lang': 'GA', 'seg': 'Níl vacsaíniú ar fáil fós i gcoinne heipitítis C.'}, {'@xml:lang': 'HU', 'seg': 'A hepatitisz C ellen nincs még védőoltás.'}, {'@xml:lang': 'IS', 'seg': 'Bólusetning gegn lifrarbólgu C er enn ekki til.'}, {'@xml:lang': 'IT', 'seg': \"Non c'è ancora un vaccino per l'epatite C.\"}, {'@xml:lang': 'LT', 'seg': 'Vakcinos nuo hepatito C dar nėra.'}, {'@xml:lang': 'LV', 'seg': 'Pagaidām pret hepatītu C nav iespējams vakcinēties.'}, {'@xml:lang': 'MT', 'seg': 'It-tilqim kontra l-epatite Ċ għadu mhux disponibbli.'}, {'@xml:lang': 'NL', 'seg': 'Er is nog geen vaccin tegen hepatitis C beschikbaar.'}, {'@xml:lang': 'NO', 'seg': 'Det finnes foreløpig ingen vaksine mot hepatitt C, og sykdomsbyrden er høy.'}, {'@xml:lang': 'PL', 'seg': 'Niestety nadal nie jest dostępna szczepionka przeciwko wirusowemu zapaleniu wątroby typu C.'}, {'@xml:lang': 'PT', 'seg': 'De momento, não existe qualquer vacina disponível contra o vírus da hepatite C.'}, {'@xml:lang': 'RO', 'seg': 'Nu există încă niciun vaccin disponibil împotriva hepatitei C.'}, {'@xml:lang': 'SK', 'seg': 'Proti hepatitíde C nie je zatiaľ dostupné očkovanie.'}, {'@xml:lang': 'SL', 'seg': 'Cepiva proti hepatitisu C še ni.'}, {'@xml:lang': 'SV', 'seg': 'Det finns ännu inget vaccin mot hepatit C.'}], [{'@xml:lang': 'EN', 'seg': 'HIV infection'}, {'@xml:lang': 'BG', 'seg': 'Инфекция с човешки имунодефицитен вирус (ХИВ)'}, {'@xml:lang': 'CS', 'seg': 'Infekce HIV'}, {'@xml:lang': 'DA', 'seg': 'HIV-infektion'}, {'@xml:lang': 'DE', 'seg': 'HIV-Infektion'}, {'@xml:lang': 'EL', 'seg': 'Λοίμωξη από τον ιό της ανοσολογικής ανεπάρκειας του ανθρώπου (HIV)'}, {'@xml:lang': 'ES', 'seg': 'VIH, infección por el'}, {'@xml:lang': 'ET', 'seg': 'HIV-nakkus'}, {'@xml:lang': 'FI', 'seg': 'HIV-infektio'}, {'@xml:lang': 'FR', 'seg': 'Infection à VIH'}, {'@xml:lang': 'GA', 'seg': 'Ionfhabhtú VEID'}, {'@xml:lang': 'HU', 'seg': 'HIV fertőzés'}, {'@xml:lang': 'IS', 'seg': 'HIV smitun'}, {'@xml:lang': 'IT', 'seg': 'Infezione da HIV'}, {'@xml:lang': 'LT', 'seg': 'ŽIV infekcija'}, {'@xml:lang': 'LV', 'seg': 'HIV infekcija'}, {'@xml:lang': 'MT', 'seg': 'Infezzjoni HIV'}, {'@xml:lang': 'NL', 'seg': 'Hiv-infectie'}, {'@xml:lang': 'NO', 'seg': 'HIV-infeksjon'}, {'@xml:lang': 'PL', 'seg': 'Zakażenie wirusem HIV'}, {'@xml:lang': 'PT', 'seg': 'Infecção por VIH'}, {'@xml:lang': 'RO', 'seg': 'Infecţia cu HIV'}, {'@xml:lang': 'SK', 'seg': 'Infekcia HIV'}, {'@xml:lang': 'SL', 'seg': 'Okužba s HIV'}, {'@xml:lang': 'SV', 'seg': 'HIV-infektion'}], [{'@xml:lang': 'EN', 'seg': 'The human immunodeficiency virus (HIV) remains one of the most important communicable diseases in Europe.'}, {'@xml:lang': 'BG', 'seg': 'Човешкият имунодефицитен вирус (ХИВ) остава едно от най-значимите заразни заболявания в Европа.'}, {'@xml:lang': 'CS', 'seg': 'Virus lidské imunodeficience (human immunodeficiency virus, HIV) zůstává jedním z nejzávažnějších přenosných onemocnění v Evropě.'}, {'@xml:lang': 'CS', 'seg': 'Virus lidské imunodeficience (human immunodeficiency virus, HIV) zůstává jedním z\\xa0nejzávažnějších přenosných onemocnění v\\xa0Evropě.'}, {'@xml:lang': 'DA', 'seg': 'Hiv (humant immundefektvirus), er fortsat blandt de vigtigste overførbare sygdomme i Europa.'}, {'@xml:lang': 'DE', 'seg': 'Das humane Immundefizienz-Virus HIV gehört weiterhin zu den bedeutendsten Infektionserregern in Europa.'}, {'@xml:lang': 'EL', 'seg': 'Ο ιός της ανοσολογικής ανεπάρκειας του ανθρώπου παραμένει μία από τις πιο σημαντικές μεταδοτικές νόσους στην Ευρώπη.'}, {'@xml:lang': 'ES', 'seg': 'La infección por el virus de la inmunodeficiencia humana (VIH) sigue siendo una de las enfermedades transmisibles más importantes en Europa.'}, {'@xml:lang': 'ET', 'seg': 'Inimese immuunpuudulikkuse viiruse (HIV) nakkus on endiselt Euroopas üks tähtsaimaid nakkushaigusi.'}, {'@xml:lang': 'FI', 'seg': 'Ihmisen immuunikatovirus (HIV) kuuluu Euroopan merkittävimpiin tartuntatauteihin.'}, {'@xml:lang': 'FR', 'seg': 'L’infection par le virus de l’immunodéficience humaine (VIH) reste l’une des principales maladies contagieuses en Europe.'}, {'@xml:lang': 'GA', 'seg': 'Tá an víreas easpa imdhíonachta daonna (VEID) fós ar cheann de na galair thógálacha is tábhachtaí san Eoraip.'}, {'@xml:lang': 'HU', 'seg': 'A humán immunhiányos betegséget okozó vírusfertőzés (human immunodeficiency virus, HIV) továbbra is az egyik legmeghatározóbb fertőző betegség Európában.'}, {'@xml:lang': 'IS', 'seg': 'Alnæmisveira í mönnum (HIV) er enn sem fyrr einn alvarlegasti smitsjúkdómurinn í Evrópu.'}, {'@xml:lang': 'IT', 'seg': \"Il virus dell'immunodeficienza umana (HIV) resta una delle più importanti malattie trasmissibili in Europa.\"}, {'@xml:lang': 'LT', 'seg': 'Žmogaus imunodeficito virusas (ŽIV) ir toliau lieka viena iš pagrindinių užkrečiamųjų ligų Europoje.'}, {'@xml:lang': 'LV', 'seg': 'Cilvēka imūndeficīta vīruss (HIV) joprojām ir viens no vissvarīgākajiem infekcijas slimību izraisītājiem Eiropā.'}, {'@xml:lang': 'MT', 'seg': 'Il-virus tal-immunodefiċenza tal-bniedem (HIV) jibqa’ wieħed mill-mard li jinxtered l-aktar importanti fl-Ewropa.'}, {'@xml:lang': 'NL', 'seg': 'Het humaan immunodeficiëntievirus (hiv) is nog altijd een van de belangrijkste overdraagbare ziekten in Europa.'}, {'@xml:lang': 'NO', 'seg': 'Humant immunsviktvirus (HIV) er fortsatt en av de viktigste smittsomme sykdommene i Europa.'}, {'@xml:lang': 'PL', 'seg': 'Ludzki wirus upośledzenia odporności (HIV) powoduje jedną z najważniejszych chorób zakaźnych w Europie.'}, {'@xml:lang': 'PT', 'seg': 'O vírus da imunodeficiência humana (VIH) continua a ser uma das doenças transmissíveis mais importantes na Europa.'}, {'@xml:lang': 'RO', 'seg': 'Infecţia cu virusul imunodeficienţei umane (HIV) rămâne una dintre cele mai importante boli transmisibile din Europa.'}, {'@xml:lang': 'SK', 'seg': 'Vírus ľudskej imunitnej nedostatočnosti (HIV) naďalej predstavuje jedno z\\xa0 najvýznamnejších nákazlivých ochorení v\\xa0 Európe.'}, {'@xml:lang': 'SL', 'seg': 'Virus humane imunske pomanjkljivosti (HIV) ostaja ena najpomembnejših nalezljivih bolezni v Evropi.'}, {'@xml:lang': 'SV', 'seg': 'Humant immunbristvirus (HIV) är fortfarande en av de dominerande smittsamma sjukdomarna i Europa.'}], [{'@xml:lang': 'EN', 'seg': 'It is an infection associated with serious disease, persistently high costs of treatment and care, significant number of deaths and shortened life expectancy.'}, {'@xml:lang': 'BG', 'seg': 'Тази инфекция е свързана с тежко протичаща болест, постоянно високи разходи за лечение и грижи, голям брой смъртни случаи и съкратена очаквана продължителност на живота.'}, {'@xml:lang': 'CS', 'seg': 'Jde o infekci spojenou s těžkým onemocněním, s dlouhodobě vysokými náklady na léčbu a péči a s vysokým podílem úmrtí a zkrácením očekávané délky života.'}, {'@xml:lang': 'DA', 'seg': 'Hiv er forbundet med alvorlig sygdom, vedvarende høje behandlings- og plejeudgifter, et betydeligt antal dødsfald og nedsat forventet levetid.'}, {'@xml:lang': 'DE', 'seg': 'Eine Infektion mit diesem Virus führt zu ernsthaften Erkrankungen, dauerhaft hohen Behandlungs- und Pflegekosten, einer hohen Zahl von Todesfällen und einer verkürzten Lebenserwartung.'}, {'@xml:lang': 'EL', 'seg': 'Πρόκειται για μια λοίμωξη που σχετίζεται με σοβαρή νόσο, συνεχώς αυξανόμενο κόστος θεραπείας και φροντίδας, σημαντικό ποσοστό θνησιμότητας και μείωση του προσδόκιμου επιβίωσης.'}, {'@xml:lang': 'ES', 'seg': 'Se trata de una infección que se acompaña de una enfermedad grave, unos costes de tratamiento y asistencia siempre elevados, un número considerable de muertes y un acortamiento de la esperanza de vida.'}, {'@xml:lang': 'ET', 'seg': 'See on nakkus, millega kaasnevad raske haigus, püsivalt suured ravi- ja hoolduskulud, suur suremus ning oodatava eluea lühenemine.'}, {'@xml:lang': 'FI', 'seg': 'HIV-infektio on vakava sairaus, jonka hoitokustannukset ovat korkeat ja johon liittyy korkea kuolleisuus sekä lyhentynyt elinajanodote.'}, {'@xml:lang': 'FR', 'seg': 'Cette infection est associée à une pathologie grave, à un traitement et à des soins très onéreux, à un nombre significatif de décès et à une espérance de vie réduite.'}, {'@xml:lang': 'GA', 'seg': 'Is ionfhabhtú é a mbaineann galar tromchúiseach leis, chomh maith le costais cóireála agus cúraim síorarda, líon suntasach básanna agus ionchas saoil níos giorra.'}, {'@xml:lang': 'HU', 'seg': 'Ez egy olyan súlyos betegséget okozó fertőzés, amely folyamatosan magas kezelési és gondozási költségekkel, jelentős számú halálesettel és a várható élettartam megrövidülésével jár.'}, {'@xml:lang': 'IS', 'seg': 'HIV smitun veldur illvígum sjúkdómum, hefur í för með sér gríðarmikil og langvarandi útgjöld, kostar mörg mannslíf og skerðir lífslíkur.'}, {'@xml:lang': 'IT', 'seg': \"Si tratta di un'infezione associata a malattia grave, costi di terapia e assistenza persistentemente alti, un considerevole numero di decessi e una ridotta aspettativa di vita.\"}, {'@xml:lang': 'LT', 'seg': 'Tai infekcija, sukelianti sunkius susirgimus, pareikalaujanti didelių nuolatinių gydymo ir priežiūros išlaidų, sukelianti daug mirčių ir sutrumpinanti gyvenimo trukmę.'}, {'@xml:lang': 'LV', 'seg': 'Tā ir infekcija, kas saistīta ar nopietnu slimību, noturīgi augstām ārstēšanas un aprūpes izmaksām, nozīmīgi lielu nāves gadījumu skaitu un saīsinātu dzīvildzi.'}, {'@xml:lang': 'MT', 'seg': 'Dan huwa infezzjoni assoċjata ma’  mard serju, \\n                spejjeż \\n                għoljin persistenti ta’  trattament u kura, numru sinifikanti ta’  mwiet u għomor imnaqqas.'}, {'@xml:lang': 'NL', 'seg': 'Het is een infectie die gepaard gaat met ernstige ziekte, blijvend hoge kosten voor behandeling en zorg, een aanzienlijk aantal sterfgevallen en een kortere levensverwachting.'}, {'@xml:lang': 'NO', 'seg': 'Infeksjonen assosieres med alvorlig sykdom, gjennomgående høye kostnader til behandling og pleie, høy dødelighet og kortere forventet levetid.'}, {'@xml:lang': 'PL', 'seg': 'Jest to zakażenie wiążące się z poważną chorobą, stałymi wysokimi kosztami leczenia i opieki, znaczną liczbą zgonów i skróconym oczekiwanym czasem przeżycia.'}, {'@xml:lang': 'PT', 'seg': 'Trata-se de uma infecção associada a uma doença grave, a elevados custos de tratamento e de cuidados de saúde, a um número significativo de mortes e a uma diminuição da esperança de vida.'}, {'@xml:lang': 'RO', 'seg': 'Este o infecţie asociată cu o boală gravă, costuri de tratament şi îngrijire constant ridicate, un număr semnificativ de decese şi o speranţă redusă de viaţă.'}, {'@xml:lang': 'SK', 'seg': 'Je to infekcia spojená s\\xa0 ťažkou chorobou, trvalo vysokými nákladmi na liečbu a\\xa0 starostlivosť, značným počtom úmrtí a\\xa0 kratšou očakávanou dĺžkou života.'}, {'@xml:lang': 'SL', 'seg': 'Gre za okužbo, ki je povezana s hudo boleznijo, trajno visokimi stroški zdravljenja in nege, visoko stopnjo umrljivosti in krajšo življenjsko dobo.'}, {'@xml:lang': 'SV', 'seg': 'HIV-infektion är kopplad till allvarlig sjukdom, långvariga och höga kostnader för behandling och vård, ett betydande antal dödsfall samt kortare förväntad livslängd.'}]]\n"
          ]
        }
      ]
    },
    {
      "cell_type": "markdown",
      "source": [
        "# Convert to Moses format\n",
        "* convert a TM to Moser format (txt file, with one segment per line)\n",
        "* use Polars - recommended"
      ],
      "metadata": {
        "id": "qr9uJv7ECazP"
      }
    },
    {
      "cell_type": "code",
      "source": [
        "!pip3 install polars -q"
      ],
      "metadata": {
        "id": "aJFODzlFBK8t"
      },
      "execution_count": 8,
      "outputs": []
    },
    {
      "cell_type": "code",
      "source": [
        "#@title Using Pandas (slower than Polars)\n",
        "\n",
        "\n",
        "# Remove this line to run the cell\n",
        "%%script false --no-raise-error\n",
        "\n",
        "\n",
        "import pandas as pd\n",
        "\n",
        "df_list = []\n",
        "for idx, group in enumerate(data):\n",
        "    df_temp = pd.DataFrame(group)\n",
        "    df_temp['group'] = idx\n",
        "    df_list.append(df_temp)\n",
        "\n",
        "# Using pivot_table to handle potential duplicates\n",
        "df_pivot_pd = pd.concat(df_list).pivot_table(index='group',\n",
        "                                             columns='@xml:lang',\n",
        "                                             values='seg',\n",
        "                                             aggfunc='first').reset_index(drop=True)\n",
        "\n",
        "# Repace nan\n",
        "df_pivot_pd = df_pivot_pd.fillna(\"NA\")\n",
        "\n",
        "# [Optional] Select only a few languages\n",
        "df_pivot_pd = df_pivot_pd[['EN', 'BG', 'CS', 'GA']]\n",
        "\n",
        "df_pivot_pd.head(10)"
      ],
      "metadata": {
        "id": "UU3f7HUsO9on",
        "cellView": "form"
      },
      "execution_count": 7,
      "outputs": []
    },
    {
      "cell_type": "code",
      "source": [
        "#@title Using Polars - recommended\n",
        "\n",
        "import polars as pl\n",
        "\n",
        "# Convert the nested list into a DataFrame\n",
        "df = pl.DataFrame({\n",
        "    'lang': [entry['@xml:lang'] for sublist in data for entry in sublist],\n",
        "    'seg': [entry['seg'] for sublist in data for entry in sublist]\n",
        "})\n",
        "\n",
        "# Create a unique index column to keep track of each group of translations\n",
        "df = df.with_columns([(pl.col(\"lang\") == \"EN\").cumsum().alias(\"index\")])\n",
        "\n",
        "# Pivot the data\n",
        "df = df.pivot(index=\"index\", columns=\"lang\", values=\"seg\", aggregate_function=\"first\")\n",
        "\n",
        "# Fill missing translations\n",
        "# Later you will have to filter out empty segments\n",
        "# df = df.fill_null(\"NA\")\n",
        "\n",
        "# Remove newlines \"\\n\" from translations\n",
        "df = df.with_columns(pl.col(\"*\").cast(pl.Utf8).str.strip().str.replace_all(\"\\n\", \" \"))\n",
        "\n",
        "df.head(10)"
      ],
      "metadata": {
        "colab": {
          "base_uri": "https://localhost:8080/",
          "height": 744
        },
        "id": "bIu6DDQrSD_6",
        "outputId": "cbf56980-f7e6-45c0-ddf2-b5a5ef1e793b"
      },
      "execution_count": 9,
      "outputs": [
        {
          "output_type": "execute_result",
          "data": {
            "text/plain": [
              "shape: (10, 26)\n",
              "┌───────┬────────────┬────────────┬────────────┬───┬───────────┬───────────┬───────────┬───────────┐\n",
              "│ index ┆ EN         ┆ BG         ┆ CS         ┆ … ┆ RO        ┆ SK        ┆ SL        ┆ SV        │\n",
              "│ ---   ┆ ---        ┆ ---        ┆ ---        ┆   ┆ ---       ┆ ---       ┆ ---       ┆ ---       │\n",
              "│ str   ┆ str        ┆ str        ┆ str        ┆   ┆ str       ┆ str       ┆ str       ┆ str       │\n",
              "╞═══════╪════════════╪════════════╪════════════╪═══╪═══════════╪═══════════╪═══════════╪═══════════╡\n",
              "│ 1     ┆ Vaccinatio ┆ Засега     ┆ Očkování   ┆ … ┆ Nu există ┆ Proti hep ┆ Cepiva    ┆ Det finns │\n",
              "│       ┆ n against  ┆ няма       ┆ proti      ┆   ┆ încă      ┆ atitíde C ┆ proti hep ┆ ännu      │\n",
              "│       ┆ hepatitis  ┆ ваксина    ┆ hepatitidě ┆   ┆ niciun    ┆ nie je    ┆ atitisu C ┆ inget     │\n",
              "│       ┆ C …        ┆ срещу      ┆ C zatí…    ┆   ┆ vaccin    ┆ zatiaľ…   ┆ še ni.    ┆ vaccin    │\n",
              "│       ┆            ┆ хепати…    ┆            ┆   ┆ dis…      ┆           ┆           ┆ mot …     │\n",
              "│ 2     ┆ HIV        ┆ Инфекция с ┆ Infekce    ┆ … ┆ Infecţia  ┆ Infekcia  ┆ Okužba s  ┆ HIV-infek │\n",
              "│       ┆ infection  ┆ човешки    ┆ HIV        ┆   ┆ cu HIV    ┆ HIV       ┆ HIV       ┆ tion      │\n",
              "│       ┆            ┆ имунодефиц ┆            ┆   ┆           ┆           ┆           ┆           │\n",
              "│       ┆            ┆ ите…       ┆            ┆   ┆           ┆           ┆           ┆           │\n",
              "│ 3     ┆ The human  ┆ Човешкият  ┆ Virus      ┆ … ┆ Infecţia  ┆ Vírus     ┆ Virus     ┆ Humant    │\n",
              "│       ┆ immunodefi ┆ имунодефиц ┆ lidské imu ┆   ┆ cu        ┆ ľudskej   ┆ humane    ┆ immunbris │\n",
              "│       ┆ ciency     ┆ итен вирус ┆ nodeficien ┆   ┆ virusul   ┆ imunitnej ┆ imunske   ┆ tvirus    │\n",
              "│       ┆ virus…     ┆ (…         ┆ ce (hu…    ┆   ┆ imunodefi ┆ nedostat… ┆ pomanjklj ┆ (HIV) är  │\n",
              "│       ┆            ┆            ┆            ┆   ┆ cie…      ┆           ┆ iv…       ┆ …         │\n",
              "│ 4     ┆ It is an   ┆ Тази       ┆ Jde o      ┆ … ┆ Este o    ┆ Je to     ┆ Gre za    ┆ HIV-infek │\n",
              "│       ┆ infection  ┆ инфекция е ┆ infekci    ┆   ┆ infecţie  ┆ infekcia  ┆ okužbo,   ┆ tion är   │\n",
              "│       ┆ associated ┆ свързана с ┆ spojenou s ┆   ┆ asociată  ┆ spojená   ┆ ki je     ┆ kopplad   │\n",
              "│       ┆ wi…        ┆ тежко…     ┆ těžkým …   ┆   ┆ cu o bo…  ┆ s         ┆ povezana  ┆ till al…  │\n",
              "│       ┆            ┆            ┆            ┆   ┆           ┆ ťažkou…   ┆ s …       ┆           │\n",
              "│ …     ┆ …          ┆ …          ┆ …          ┆ … ┆ …         ┆ …         ┆ …         ┆ …         │\n",
              "│ 7     ┆ Babies     ┆ Бебетата   ┆ Děti       ┆ … ┆ Copiii    ┆ Deti      ┆ Dojenčki, ┆ Barn som  │\n",
              "│       ┆ born to    ┆ на инфекти ┆ narozené   ┆   ┆ născuţi   ┆ narodené  ┆ ki so jih ┆ föds av   │\n",
              "│       ┆ HIV-infect ┆ рани с ХИВ ┆ ženám infi ┆   ┆ de femei  ┆ ženám inf ┆ rodile    ┆ HIV-smitt │\n",
              "│       ┆ ed wome…   ┆ же…        ┆ kovaným …  ┆   ┆ infectat… ┆ ikovaným  ┆ žensk…    ┆ ade mö…   │\n",
              "│       ┆            ┆            ┆            ┆   ┆           ┆ …         ┆           ┆           │\n",
              "│ 8     ┆ The        ┆ Крайната   ┆ Konečné    ┆ … ┆ Stadiul   ┆ Konečné   ┆ Končna    ┆ Infektion │\n",
              "│       ┆ end-stage  ┆ фаза на    ┆ stadium    ┆   ┆ terminal  ┆ štádium   ┆ stopnja   ┆ ens sluts │\n",
              "│       ┆ of the     ┆ инфекцията ┆ infekce,   ┆   ┆ al infecţ ┆ infekcie, ┆ okužbe,   ┆ tadium,   │\n",
              "│       ┆ infection, ┆ –  с…      ┆ syndrom…   ┆   ┆ iei, s…   ┆ syndró…   ┆ imenovana ┆ förvär…   │\n",
              "│       ┆ …          ┆            ┆            ┆   ┆           ┆           ┆ …         ┆           │\n",
              "│ 9     ┆ AIDS is    ┆ СПИН се    ┆ AIDS je    ┆ … ┆ SIDA este ┆ AIDS sa   ┆ null      ┆ Aids defi │\n",
              "│       ┆ defined by ┆ дефинира   ┆ definován  ┆   ┆ caracteri ┆ vymedzuje ┆           ┆ nieras av │\n",
              "│       ┆ the        ┆ от         ┆ na základě ┆   ┆ zată prin ┆ prítomnos ┆           ┆ närvaron  │\n",
              "│       ┆ presence … ┆ наличието  ┆ pří…       ┆   ┆ pre…      ┆ ťou j…    ┆           ┆ av e…     │\n",
              "│       ┆            ┆ на…        ┆            ┆   ┆           ┆           ┆           ┆           │\n",
              "│ 10    ┆ Effective  ┆ Ефективнит ┆ Účinné kom ┆ … ┆ Terapiile ┆ Účinné    ┆ Učinkovit ┆ Effektiva │\n",
              "│       ┆ combinatio ┆ е комбинир ┆ binované   ┆   ┆ combinate ┆ liečebné  ┆ e kombini ┆ kombinati │\n",
              "│       ┆ n therapie ┆ ани        ┆ terapie,   ┆   ┆ eficace,  ┆ kombináci ┆ rane tera ┆ onsbehand │\n",
              "│       ┆ s,…        ┆ терапии,…  ┆ zave…      ┆   ┆ int…      ┆ e zaved…  ┆ pije,…    ┆ ling…     │\n",
              "└───────┴────────────┴────────────┴────────────┴───┴───────────┴───────────┴───────────┴───────────┘"
            ],
            "text/html": [
              "<div><style>\n",
              ".dataframe > thead > tr > th,\n",
              ".dataframe > tbody > tr > td {\n",
              "  text-align: right;\n",
              "}\n",
              "</style>\n",
              "<small>shape: (10, 26)</small><table border=\"1\" class=\"dataframe\"><thead><tr><th>index</th><th>EN</th><th>BG</th><th>CS</th><th>DA</th><th>DE</th><th>EL</th><th>ES</th><th>ET</th><th>FI</th><th>FR</th><th>GA</th><th>HU</th><th>IS</th><th>IT</th><th>LT</th><th>LV</th><th>MT</th><th>NL</th><th>NO</th><th>PL</th><th>PT</th><th>RO</th><th>SK</th><th>SL</th><th>SV</th></tr><tr><td>str</td><td>str</td><td>str</td><td>str</td><td>str</td><td>str</td><td>str</td><td>str</td><td>str</td><td>str</td><td>str</td><td>str</td><td>str</td><td>str</td><td>str</td><td>str</td><td>str</td><td>str</td><td>str</td><td>str</td><td>str</td><td>str</td><td>str</td><td>str</td><td>str</td><td>str</td></tr></thead><tbody><tr><td>&quot;1&quot;</td><td>&quot;Vaccination ag…</td><td>&quot;Засега няма ва…</td><td>&quot;Očkování proti…</td><td>&quot;Der findes end…</td><td>&quot;Es gibt derzei…</td><td>&quot;Επί του παρόντ…</td><td>&quot;Todavía no hay…</td><td>&quot;C-hepatiidi va…</td><td>&quot;Hepatiitti C:h…</td><td>&quot;Aucune vaccina…</td><td>&quot;Níl vacsaíniú …</td><td>&quot;A hepatitisz C…</td><td>&quot;Bólusetning ge…</td><td>&quot;Non c&#x27;è ancora…</td><td>&quot;Vakcinos nuo h…</td><td>&quot;Pagaidām pret …</td><td>&quot;It-tilqim kont…</td><td>&quot;Er is nog geen…</td><td>&quot;Det finnes for…</td><td>&quot;Niestety nadal…</td><td>&quot;De momento, nã…</td><td>&quot;Nu există încă…</td><td>&quot;Proti hepatití…</td><td>&quot;Cepiva proti h…</td><td>&quot;Det finns ännu…</td></tr><tr><td>&quot;2&quot;</td><td>&quot;HIV infection&quot;</td><td>&quot;Инфекция с чов…</td><td>&quot;Infekce HIV&quot;</td><td>&quot;HIV-infektion&quot;</td><td>&quot;HIV-Infektion&quot;</td><td>&quot;Λοίμωξη από το…</td><td>&quot;VIH, infección…</td><td>&quot;HIV-nakkus&quot;</td><td>&quot;HIV-infektio&quot;</td><td>&quot;Infection à VI…</td><td>&quot;Ionfhabhtú VEI…</td><td>&quot;HIV fertőzés&quot;</td><td>&quot;HIV smitun&quot;</td><td>&quot;Infezione da H…</td><td>&quot;ŽIV infekcija&quot;</td><td>&quot;HIV infekcija&quot;</td><td>&quot;Infezzjoni HIV…</td><td>&quot;Hiv-infectie&quot;</td><td>&quot;HIV-infeksjon&quot;</td><td>&quot;Zakażenie wiru…</td><td>&quot;Infecção por V…</td><td>&quot;Infecţia cu HI…</td><td>&quot;Infekcia HIV&quot;</td><td>&quot;Okužba s HIV&quot;</td><td>&quot;HIV-infektion&quot;</td></tr><tr><td>&quot;3&quot;</td><td>&quot;The human immu…</td><td>&quot;Човешкият имун…</td><td>&quot;Virus lidské i…</td><td>&quot;Hiv (humant im…</td><td>&quot;Das humane Imm…</td><td>&quot;Ο ιός της ανοσ…</td><td>&quot;La infección p…</td><td>&quot;Inimese immuun…</td><td>&quot;Ihmisen immuun…</td><td>&quot;L’infection pa…</td><td>&quot;Tá an víreas e…</td><td>&quot;A humán immunh…</td><td>&quot;Alnæmisveira í…</td><td>&quot;Il virus dell&#x27;…</td><td>&quot;Žmogaus imunod…</td><td>&quot;Cilvēka imūnde…</td><td>&quot;Il-virus tal-i…</td><td>&quot;Het humaan imm…</td><td>&quot;Humant immunsv…</td><td>&quot;Ludzki wirus u…</td><td>&quot;O vírus da imu…</td><td>&quot;Infecţia cu vi…</td><td>&quot;Vírus ľudskej …</td><td>&quot;Virus humane i…</td><td>&quot;Humant immunbr…</td></tr><tr><td>&quot;4&quot;</td><td>&quot;It is an infec…</td><td>&quot;Тази инфекция …</td><td>&quot;Jde o infekci …</td><td>&quot;Hiv er forbund…</td><td>&quot;Eine Infektion…</td><td>&quot;Πρόκειται για …</td><td>&quot;Se trata de un…</td><td>&quot;See on nakkus,…</td><td>&quot;HIV-infektio o…</td><td>&quot;Cette infectio…</td><td>&quot;Is ionfhabhtú …</td><td>&quot;Ez egy olyan s…</td><td>&quot;HIV smitun vel…</td><td>&quot;Si tratta di u…</td><td>&quot;Tai infekcija,…</td><td>&quot;Tā ir infekcij…</td><td>&quot;Dan huwa infez…</td><td>&quot;Het is een inf…</td><td>&quot;Infeksjonen as…</td><td>&quot;Jest to zakaże…</td><td>&quot;Trata-se de um…</td><td>&quot;Este o infecţi…</td><td>&quot;Je to infekcia…</td><td>&quot;Gre za okužbo,…</td><td>&quot;HIV-infektion …</td></tr><tr><td>&quot;5&quot;</td><td>&quot;HIV is a virus…</td><td>&quot;ХИВ атакува им…</td><td>&quot;HIV je virus, …</td><td>&quot;HIV er et viru…</td><td>&quot;HIV ist ein Vi…</td><td>&quot;O HIV είναι έν…</td><td>&quot;El VIH es un v…</td><td>&quot;HIV on viirus,…</td><td>&quot;HIV on virus, …</td><td>&quot;Le VIH est un …</td><td>&quot;Is víreas é VE…</td><td>&quot;A HIV egy víru…</td><td>&quot;HIV er veira s…</td><td>&quot;L’HIV è un vir…</td><td>&quot;ŽIV yra virusa…</td><td>&quot;HIV ir vīruss,…</td><td>&quot;L-HIV hu virus…</td><td>&quot;Hiv is een vir…</td><td>&quot;HIV er et viru…</td><td>&quot;HIV jest wirus…</td><td>&quot;O VIH é um vír…</td><td>&quot;HIV este un vi…</td><td>&quot;HIV je vírus, …</td><td>&quot;HIV je virus, …</td><td>&quot;HIV är ett vir…</td></tr><tr><td>&quot;6&quot;</td><td>&quot;HIV is spread …</td><td>&quot;Разпространява…</td><td>&quot;HIV se šíří po…</td><td>&quot;Hiv spredes ve…</td><td>&quot;HIV wird übert…</td><td>&quot;Ο HIV μεταδίδε…</td><td>&quot;El VIH se cont…</td><td>&quot;HIV levib seks…</td><td>&quot;HIV leviää suk…</td><td>&quot;Le VIH se tran…</td><td>null</td><td>&quot;A HIV fertőzöt…</td><td>&quot;HIV dreifist m…</td><td>&quot;Si trasmette a…</td><td>&quot;ŽIV plinta per…</td><td>&quot;HIV izplatās d…</td><td>&quot;L-HIV jinxtere…</td><td>&quot;Hiv wordt vers…</td><td>&quot;HIV spres gjen…</td><td>&quot;Wirus HIV prze…</td><td>&quot;O VIH transmit…</td><td>&quot;HIV se transmi…</td><td>&quot;HIV sa šíri po…</td><td>&quot;HIV se širi s …</td><td>&quot;HIV sprids gen…</td></tr><tr><td>&quot;7&quot;</td><td>&quot;Babies born to…</td><td>&quot;Бебетата на ин…</td><td>&quot;Děti narozené …</td><td>&quot;Spædbørn født …</td><td>&quot;Babys von HIV-…</td><td>&quot;Τα βρέφη που γ…</td><td>&quot;Los niños naci…</td><td>&quot;HIV-nakkusega …</td><td>&quot;HIV-infektion …</td><td>&quot;Les enfants de…</td><td>&quot;D&#x27;fhéadfadh le…</td><td>&quot;A HIV fertőzöt…</td><td>&quot;Börn HIV smita…</td><td>&quot;I bambini che …</td><td>&quot;Kūdikiai, pagi…</td><td>&quot;Bērni, kuri pi…</td><td>&quot;Trabi li jitwi…</td><td>&quot;Baby&#x27;s van met…</td><td>&quot;Barn som fødes…</td><td>&quot;Dzieci kobiet …</td><td>&quot;Os filhos de m…</td><td>&quot;Copiii născuţi…</td><td>&quot;Deti narodené …</td><td>&quot;Dojenčki, ki s…</td><td>&quot;Barn som föds …</td></tr><tr><td>&quot;8&quot;</td><td>&quot;The end-stage …</td><td>&quot;Крайната фаза …</td><td>&quot;Konečné stadiu…</td><td>&quot;Slutstadiet i …</td><td>&quot;Das Endstadium…</td><td>&quot;Το τελικό στάδ…</td><td>&quot;La fase final …</td><td>&quot;Nakkuse lõppst…</td><td>&quot;Infektion lopp…</td><td>&quot;Le stade final…</td><td>&quot;Tarlaíonn stai…</td><td>&quot;A fertőzés vég…</td><td>&quot;Lokastigið eyð…</td><td>&quot;Lo stadio fina…</td><td>&quot;ŽIV infekcija …</td><td>&quot;Infekcijas bei…</td><td>&quot;L-aħħar stadju…</td><td>&quot;Het eindstadiu…</td><td>&quot;Siste stadium …</td><td>&quot;Końcowy etap z…</td><td>&quot;A fase final d…</td><td>&quot;Stadiul termin…</td><td>&quot;Konečné štádiu…</td><td>&quot;Končna stopnja…</td><td>&quot;Infektionens s…</td></tr><tr><td>&quot;9&quot;</td><td>&quot;AIDS is define…</td><td>&quot;СПИН се дефини…</td><td>&quot;AIDS je defino…</td><td>&quot;Aids er kendet…</td><td>&quot;AIDS ist defin…</td><td>&quot;Το AIDS προσδι…</td><td>&quot;El SIDA se def…</td><td>&quot;AIDSi määratle…</td><td>&quot;AIDS määritell…</td><td>&quot;Le SIDA se car…</td><td>&quot;Tá SEIF sainit…</td><td>&quot;Az AIDS megáll…</td><td>&quot;Samkvæmt skilg…</td><td>&quot;L&#x27;AIDS è defin…</td><td>&quot;AIDS pasireišk…</td><td>&quot;AIDS definē ar…</td><td>&quot;L-AIDS huwa   …</td><td>&quot;Aids wordt ged…</td><td>&quot;AIDS kjenneteg…</td><td>&quot;AIDS jest zdef…</td><td>&quot;A SIDA é defin…</td><td>&quot;SIDA este cara…</td><td>&quot;AIDS sa vymedz…</td><td>null</td><td>&quot;Aids definiera…</td></tr><tr><td>&quot;10&quot;</td><td>&quot;Effective comb…</td><td>&quot;Ефективните ко…</td><td>&quot;Účinné kombino…</td><td>&quot;De effektive k…</td><td>&quot;Kombinationsth…</td><td>&quot;Οι αποτελεσματ…</td><td>&quot;Los tratamient…</td><td>&quot;Tööstusriikide…</td><td>&quot;Teollisuusmais…</td><td>&quot;La mise au poi…</td><td>&quot;Bhí éifeacht o…</td><td>&quot;A hatásos komb…</td><td>&quot;Áhrifarík, sam…</td><td>&quot;Alcune efficac…</td><td>&quot;Veiksminga kom…</td><td>&quot;Efektīvas komb…</td><td>&quot;Kuri kkombinat…</td><td>&quot;De effectieve …</td><td>&quot;Effektive komb…</td><td>&quot;Skuteczne lecz…</td><td>&quot;As terapêutica…</td><td>&quot;Terapiile comb…</td><td>&quot;Účinné liečebn…</td><td>&quot;Učinkovite kom…</td><td>&quot;Effektiva komb…</td></tr></tbody></table></div>"
            ]
          },
          "metadata": {},
          "execution_count": 9
        }
      ]
    },
    {
      "cell_type": "code",
      "source": [
        "# Save each column to a text file.\n",
        "\n",
        "print(\"Saving files...\")\n",
        "\n",
        "for lang in df.columns[1:]:\n",
        "  lang_column = df.select(lang)\n",
        "  lang_column.write_csv(\"ECDC.\"+lang,\n",
        "                        has_header=False,\n",
        "                        null_value=\"NA\",\n",
        "                        separator=\"=\")"
      ],
      "metadata": {
        "colab": {
          "base_uri": "https://localhost:8080/"
        },
        "id": "0rK1WSWbb9No",
        "outputId": "d9356369-aa7d-450d-e0be-5a0c73e11d6f"
      },
      "execution_count": 10,
      "outputs": [
        {
          "output_type": "stream",
          "name": "stdout",
          "text": [
            "Saving files...\n"
          ]
        }
      ]
    },
    {
      "cell_type": "code",
      "source": [
        "# Make sure all the files have the same number lines\n",
        "!wc -l ECDC.*"
      ],
      "metadata": {
        "colab": {
          "base_uri": "https://localhost:8080/"
        },
        "id": "Dmgm83qggPzp",
        "outputId": "903a13f0-c65d-4e1a-9c88-c8a405783c65"
      },
      "execution_count": 11,
      "outputs": [
        {
          "output_type": "stream",
          "name": "stdout",
          "text": [
            "    3919 ECDC.BG\n",
            "    3919 ECDC.CS\n",
            "    3919 ECDC.DA\n",
            "    3919 ECDC.DE\n",
            "    3919 ECDC.EL\n",
            "    3919 ECDC.EN\n",
            "    3919 ECDC.ES\n",
            "    3919 ECDC.ET\n",
            "    3919 ECDC.FI\n",
            "    3919 ECDC.FR\n",
            "    3919 ECDC.GA\n",
            "    3919 ECDC.HU\n",
            "    3919 ECDC.IS\n",
            "    3919 ECDC.IT\n",
            "    3919 ECDC.LT\n",
            "    3919 ECDC.LV\n",
            "    3919 ECDC.MT\n",
            "    3919 ECDC.NL\n",
            "    3919 ECDC.NO\n",
            "    3919 ECDC.PL\n",
            "    3919 ECDC.PT\n",
            "    3919 ECDC.RO\n",
            "    3919 ECDC.SK\n",
            "    3919 ECDC.SL\n",
            "    3919 ECDC.SV\n",
            "  231650 ECDC.tmx\n",
            "  329625 total\n"
          ]
        }
      ]
    },
    {
      "cell_type": "code",
      "source": [
        "!head ECDC.EN\n",
        "!echo\n",
        "!head ECDC.GA\n",
        "!echo\n",
        "!head ECDC.FR"
      ],
      "metadata": {
        "colab": {
          "base_uri": "https://localhost:8080/"
        },
        "id": "kqGZR0YVf8jk",
        "outputId": "b7f4ff1e-105c-466a-8609-68ca07df942d"
      },
      "execution_count": 12,
      "outputs": [
        {
          "output_type": "stream",
          "name": "stdout",
          "text": [
            "Vaccination against hepatitis C is not yet available.\n",
            "HIV infection\n",
            "The human immunodeficiency virus (HIV) remains one of the most important communicable diseases in Europe.\n",
            "It is an infection associated with serious disease, persistently high costs of treatment and care, significant number of deaths and shortened life expectancy.\n",
            "HIV is a virus, which attacks the immune system and causes a lifelong severe illness with a long incubation period.\n",
            "HIV is spread by sexual contact with an infected person, by sharing needles or syringes (primarily for drug injection) with someone who is infected, or, less commonly (and now very rarely in countries where blood is screened for HIV antibodies), through transfusions of infected blood or blood clotting factors.\n",
            "Babies born to HIV-infected women may become infected before or during birth or through breast-feeding.\n",
            "The end-stage of the infection, acquired immunodeficiency syndrome (AIDS), results from the destruction of the immune system.\n",
            "AIDS is defined by the presence of one or more “opportunistic” illnesses (other illnesses due to decreased immunity).\n",
            "Effective combination therapies, introduced in the mid-1990s and widely used in industrialised countries, have had a profound effect on the course of HIV infection, improving the quality of life and delaying the onset of AIDS and death in HIV-infected individuals.\n",
            "\n",
            "Níl vacsaíniú ar fáil fós i gcoinne heipitítis C.\n",
            "Ionfhabhtú VEID\n",
            "Tá an víreas easpa imdhíonachta daonna (VEID) fós ar cheann de na galair thógálacha is tábhachtaí san Eoraip.\n",
            "Is ionfhabhtú é a mbaineann galar tromchúiseach leis, chomh maith le costais cóireála agus cúraim síorarda, líon suntasach básanna agus ionchas saoil níos giorra.\n",
            "Is víreas é VEID, a dhéanann ionsaí ar an gcóras imdhíonachta agus a chruthaíonn géarbhreoiteacht ar feadh an tsaoil le tréimhse ghoir fhada.\n",
            "NA\n",
            "D'fhéadfadh leanaí a bheirtear do mhná a bhfuil ionfhabhtú VEID orthu a bheith ionfhabhtaithe sula dtagann siad ar an saol nó le linn na breithe nó tríd an mbeathú cíche.\n",
            "Tarlaíonn staid deiridh an ionfhabhtaithe, siondróm easpa imdhíonachta faighte (SEIF), de thoradh an chóras imdhíonachta a bheith scriosta.\n",
            "Tá SEIF sainithe ag láithreacht cheann amháin nó níos mó de bhreoiteachtaí “faille” (breoiteachtaí eile toisc imdhíonacht laghdaithe).\n",
            "Bhí éifeacht ollmhór ag comhtheiripí, a tugadh isteach i lár na 1990idí agus a úsáideadh go forleathan i dtíortha tionsclaithe, ar chúrsa an ionfhabhtaithe VEID, ag feabhsú an chaighdeáin saoil agus ag cur moille ar SEIF a theacht i réim agus ar an mbás i measc daoine aonair a bhfuil ionfhabhtú VEID orthu.\n",
            "\n",
            "Aucune vaccination contre l’hépatite C n’est encore disponible.\n",
            "Infection à VIH\n",
            "L’infection par le virus de l’immunodéficience humaine (VIH) reste l’une des principales maladies contagieuses en Europe.\n",
            "Cette infection est associée à une pathologie grave, à un traitement et à des soins très onéreux, à un nombre significatif de décès et à une espérance de vie réduite.\n",
            "Le VIH est un virus qui s’attaque au système immunitaire et provoque une maladie grave à vie associée à une longue période d’incubation.\n",
            "Le VIH se transmet lors de relations sexuelles avec une personne infectée, par le partage d’aiguilles ou de seringues (essentiellement pour l’injection de drogue) avec une personne infectée ou, plus rarement (et maintenant très rarement dans les pays où le dépistage des anticorps anti-VIH est effectué), par la transfusion de sang ou de facteurs de coagulation infectés.\n",
            "Les enfants de femmes infectées par le VIH peuvent être infectés avant ou pendant l’accouchement, ou par l’allaitement.\n",
            "Le stade final de l’infection, le syndrome d’immunodéficience acquise (SIDA), est dû à la destruction du système immunitaire.\n",
            "Le SIDA se caractérise par la présence d’une ou plusieurs maladies «opportunistes» (autres maladies dues à la diminution de l’immunité).\n",
            "La mise au point, dès le milieu des années 1990, de multithérapies efficaces, dont l’utilisation s’est généralisée dans les pays industrialisés, a permis de réduire de façon significative l’évolution de l’infection à VIH, aboutissant à l’amélioration de la qualité de vie, à l’apparition plus tardive du SIDA et à la baisse de la mortalité précoce des personnes infectées par le VIH.\n"
          ]
        }
      ]
    },
    {
      "cell_type": "markdown",
      "source": [
        "# Convert to GPT fine-tuning format\n",
        "\n",
        "* You can find more details about the fine-tuning process and supported models [here](https://platform.openai.com/docs/guides/fine-tuning).\n",
        "\n",
        "```python\n",
        "{\"prompt\": \"<prompt text>\", \"completion\": \"<ideal generated text>\"}\n",
        "{\"prompt\": \"<prompt text>\", \"completion\": \"<ideal generated text>\"}\n",
        "{\"prompt\": \"<prompt text>\", \"completion\": \"<ideal generated text>\"}\n",
        "...\n",
        "```"
      ],
      "metadata": {
        "id": "6C6e2HHgEkUO"
      }
    },
    {
      "cell_type": "code",
      "source": [
        "# Let's get English and German columns\n",
        "en_de_df = df.select(\"EN\", \"DE\")\n",
        "\n",
        "# Rename columns to \"prompt\" and \"completion\"\n",
        "en_de_df = en_de_df.rename({\"EN\": \"prompt\"})\n",
        "en_de_df = en_de_df.rename({\"DE\": \"completion\"})\n",
        "\n",
        "# [Optional] Add language names to the prompt, recommended for tranlsation tasks\n",
        "en_de_df = en_de_df.with_columns(en_de_df['prompt'].apply(lambda col: \"English: \" + col + \"\\nGerman:\"))\n",
        "\n",
        "\n",
        "pl.Config.set_fmt_str_lengths(200)\n",
        "en_de_df.head(3)"
      ],
      "metadata": {
        "colab": {
          "base_uri": "https://localhost:8080/",
          "height": 209
        },
        "id": "BN7CKxwqAD5_",
        "outputId": "6a284acb-b4cc-4826-f357-2ede16400027"
      },
      "execution_count": 13,
      "outputs": [
        {
          "output_type": "execute_result",
          "data": {
            "text/plain": [
              "shape: (3, 2)\n",
              "┌─────────────────────────────────────────────┬────────────────────────────────────────────────────┐\n",
              "│ prompt                                      ┆ completion                                         │\n",
              "│ ---                                         ┆ ---                                                │\n",
              "│ str                                         ┆ str                                                │\n",
              "╞═════════════════════════════════════════════╪════════════════════════════════════════════════════╡\n",
              "│ English: Vaccination against hepatitis C is ┆ Es gibt derzeit noch keinen Impfstoff gegen        │\n",
              "│ not yet available.                          ┆ Hepatitis C.                                       │\n",
              "│ German:                                     ┆                                                    │\n",
              "│ English: HIV infection                      ┆ HIV-Infektion                                      │\n",
              "│ German:                                     ┆                                                    │\n",
              "│ English: The human immunodeficiency virus   ┆ Das humane Immundefizienz-Virus HIV gehört         │\n",
              "│ (HIV) remains one of the most important     ┆ weiterhin zu den bedeutendsten Infektionserregern  │\n",
              "│ communicable diseases in Europe.            ┆ in Europa.                                         │\n",
              "│ German:                                     ┆                                                    │\n",
              "└─────────────────────────────────────────────┴────────────────────────────────────────────────────┘"
            ],
            "text/html": [
              "<div><style>\n",
              ".dataframe > thead > tr > th,\n",
              ".dataframe > tbody > tr > td {\n",
              "  text-align: right;\n",
              "}\n",
              "</style>\n",
              "<small>shape: (3, 2)</small><table border=\"1\" class=\"dataframe\"><thead><tr><th>prompt</th><th>completion</th></tr><tr><td>str</td><td>str</td></tr></thead><tbody><tr><td>&quot;English: Vaccination against hepatitis C is not yet available.\n",
              "German:&quot;</td><td>&quot;Es gibt derzeit noch keinen Impfstoff gegen Hepatitis C.&quot;</td></tr><tr><td>&quot;English: HIV infection\n",
              "German:&quot;</td><td>&quot;HIV-Infektion&quot;</td></tr><tr><td>&quot;English: The human immunodeficiency virus (HIV) remains one of the most important communicable diseases in Europe.\n",
              "German:&quot;</td><td>&quot;Das humane Immundefizienz-Virus HIV gehört weiterhin zu den bedeutendsten Infektionserregern in Europa.&quot;</td></tr></tbody></table></div>"
            ]
          },
          "metadata": {},
          "execution_count": 13
        }
      ]
    },
    {
      "cell_type": "code",
      "source": [
        "# Remove null rows\n",
        "\n",
        "print(\"Segments:\", en_de_df.shape[0])\n",
        "en_de_df = en_de_df.drop_nulls()\n",
        "print(\"Segments:\", en_de_df.shape[0])"
      ],
      "metadata": {
        "colab": {
          "base_uri": "https://localhost:8080/"
        },
        "id": "x7zEBlT_VR38",
        "outputId": "2549360e-b579-44bb-fa55-7b668344cb3d"
      },
      "execution_count": 14,
      "outputs": [
        {
          "output_type": "stream",
          "name": "stdout",
          "text": [
            "Segments: 3919\n",
            "Segments: 2560\n"
          ]
        }
      ]
    },
    {
      "cell_type": "code",
      "source": [
        "# Convert the dataframe to JSON lines (JSONL)\n",
        "\n",
        "json_lines = en_de_df.to_dicts()\n",
        "\n",
        "print(*json_lines[:3], sep=\"\\n\")"
      ],
      "metadata": {
        "id": "_1ZMK-SfE5M0",
        "colab": {
          "base_uri": "https://localhost:8080/"
        },
        "outputId": "63da4e58-4d95-4c7b-afb4-4baea97e6488"
      },
      "execution_count": 15,
      "outputs": [
        {
          "output_type": "stream",
          "name": "stdout",
          "text": [
            "{'prompt': 'English: Vaccination against hepatitis C is not yet available.\\nGerman:', 'completion': 'Es gibt derzeit noch keinen Impfstoff gegen Hepatitis C.'}\n",
            "{'prompt': 'English: HIV infection\\nGerman:', 'completion': 'HIV-Infektion'}\n",
            "{'prompt': 'English: The human immunodeficiency virus (HIV) remains one of the most important communicable diseases in Europe.\\nGerman:', 'completion': 'Das humane Immundefizienz-Virus HIV gehört weiterhin zu den bedeutendsten Infektionserregern in Europa.'}\n"
          ]
        }
      ]
    },
    {
      "cell_type": "code",
      "source": [
        "len(json_lines)"
      ],
      "metadata": {
        "colab": {
          "base_uri": "https://localhost:8080/"
        },
        "id": "iG9kD4C4XYZZ",
        "outputId": "8081ac85-d84b-437c-c5bf-79aa4d21a3e4"
      },
      "execution_count": 16,
      "outputs": [
        {
          "output_type": "execute_result",
          "data": {
            "text/plain": [
              "2560"
            ]
          },
          "metadata": {},
          "execution_count": 16
        }
      ]
    },
    {
      "cell_type": "code",
      "source": [
        "import json\n",
        "\n",
        "with open(\"en-de.jsonl\", \"w+\") as jsonl:\n",
        "  for line in json_lines:\n",
        "    json.dump(line, jsonl)\n",
        "    jsonl.write(\"\\n\")"
      ],
      "metadata": {
        "id": "rIcMVzIWLQX-"
      },
      "execution_count": 17,
      "outputs": []
    },
    {
      "cell_type": "code",
      "source": [
        "!wc -l \"en-de.jsonl\""
      ],
      "metadata": {
        "colab": {
          "base_uri": "https://localhost:8080/"
        },
        "id": "6T4TqbHsXdqv",
        "outputId": "4c4a9828-c029-48db-9a2e-0d06357d1c6c"
      },
      "execution_count": 18,
      "outputs": [
        {
          "output_type": "stream",
          "name": "stdout",
          "text": [
            "2560 en-de.jsonl\n"
          ]
        }
      ]
    },
    {
      "cell_type": "code",
      "source": [
        "!head -n 3 \"en-de.jsonl\""
      ],
      "metadata": {
        "colab": {
          "base_uri": "https://localhost:8080/"
        },
        "id": "2IrGXAbsLwWy",
        "outputId": "1fbe2299-c6da-4d6b-d483-24fe84ee2f32"
      },
      "execution_count": 19,
      "outputs": [
        {
          "output_type": "stream",
          "name": "stdout",
          "text": [
            "{\"prompt\": \"English: Vaccination against hepatitis C is not yet available.\\nGerman:\", \"completion\": \"Es gibt derzeit noch keinen Impfstoff gegen Hepatitis C.\"}\n",
            "{\"prompt\": \"English: HIV infection\\nGerman:\", \"completion\": \"HIV-Infektion\"}\n",
            "{\"prompt\": \"English: The human immunodeficiency virus (HIV) remains one of the most important communicable diseases in Europe.\\nGerman:\", \"completion\": \"Das humane Immundefizienz-Virus HIV geh\\u00f6rt weiterhin zu den bedeutendsten Infektionserregern in Europa.\"}\n"
          ]
        }
      ]
    },
    {
      "cell_type": "markdown",
      "source": [
        "# Creating a multilingual dataset"
      ],
      "metadata": {
        "id": "a1zjBUmga_BG"
      }
    },
    {
      "cell_type": "markdown",
      "source": [
        "## Simple example"
      ],
      "metadata": {
        "id": "PU7wQZfws8t5"
      }
    },
    {
      "cell_type": "code",
      "source": [
        "%%time\n",
        "\n",
        "# Example with Pandas\n",
        "\n",
        "import pandas as pd\n",
        "\n",
        "data_example = {'en': ['hello', 'cat', 'dog'],\n",
        "        'de': ['hallo', 'Katze', 'Hund'],\n",
        "        'fr': ['bonjour', 'chat', 'chien']}\n",
        "\n",
        "df_example = pd.DataFrame(data_example)\n",
        "\n",
        "translations = []\n",
        "\n",
        "# Get the list of languages\n",
        "languages = df_example.columns\n",
        "\n",
        "for from_lang in languages:\n",
        "  for to_lang in languages:\n",
        "    if from_lang != to_lang:  # Avoid adding translations within the same language\n",
        "      from_words = df_example[from_lang]\n",
        "      to_words = df_example[to_lang]\n",
        "      for from_word, to_word in zip(from_words, to_words):\n",
        "        translations.append({'from_word': from_word, 'to_word': to_word})\n",
        "\n",
        "result_df = pd.DataFrame(translations)\n",
        "#result_df"
      ],
      "metadata": {
        "colab": {
          "base_uri": "https://localhost:8080/"
        },
        "id": "Rt8l_RHNZyZ3",
        "outputId": "b3b225fc-0776-44df-dde8-d54036fb90af"
      },
      "execution_count": 46,
      "outputs": [
        {
          "output_type": "stream",
          "name": "stdout",
          "text": [
            "CPU times: user 1.73 ms, sys: 0 ns, total: 1.73 ms\n",
            "Wall time: 1.74 ms\n"
          ]
        }
      ]
    },
    {
      "cell_type": "code",
      "source": [
        "%%time\n",
        "\n",
        "import pandas as pd\n",
        "\n",
        "data_example = {\n",
        "    'en': ['hello', 'cat', 'dog'],\n",
        "    'de': ['hallo', 'Katze', 'Hund'],\n",
        "    'fr': ['bonjour', 'chat', 'chien']\n",
        "}\n",
        "\n",
        "df_example = pd.DataFrame(data_example)\n",
        "languages = df_example.columns\n",
        "\n",
        "translations = []\n",
        "\n",
        "for from_lang in languages:\n",
        "    for to_lang in languages:\n",
        "        if from_lang != to_lang:\n",
        "            translation_pairs = list(zip(df_example[from_lang], df_example[to_lang]))\n",
        "            translations.extend([{'from_word': from_word, 'to_word': to_word} for from_word, to_word in translation_pairs])\n",
        "\n",
        "result_df = pd.DataFrame(translations)\n",
        "\n",
        "# result_df"
      ],
      "metadata": {
        "colab": {
          "base_uri": "https://localhost:8080/"
        },
        "id": "OJG6WW_vktXo",
        "outputId": "3db01a4d-ba21-4027-d190-0942568adc66"
      },
      "execution_count": 41,
      "outputs": [
        {
          "output_type": "stream",
          "name": "stdout",
          "text": [
            "CPU times: user 1.92 ms, sys: 0 ns, total: 1.92 ms\n",
            "Wall time: 4.3 ms\n"
          ]
        }
      ]
    },
    {
      "cell_type": "code",
      "source": [
        "%%time\n",
        "\n",
        "# Example with Polars\n",
        "\n",
        "import polars as pl\n",
        "\n",
        "data_example = {'en': ['hello', 'cat', 'dog'],\n",
        "        'de': ['hallo', 'Katze', 'Hund'],\n",
        "        'fr': ['bonjour', 'chat', 'chien']}\n",
        "\n",
        "df_example = pl.DataFrame(data_example)\n",
        "\n",
        "translations = []\n",
        "\n",
        "# Get the list of languages\n",
        "languages = df_example.columns\n",
        "\n",
        "for from_lang in languages:\n",
        "  for to_lang in languages:\n",
        "    if from_lang != to_lang:\n",
        "      from_words = df_example[from_lang]\n",
        "      to_words = df_example[to_lang]\n",
        "      translations.extend(list(zip(from_words, to_words)))\n",
        "\n",
        "result_data = {'from_word': [t[0] for t in translations], 'to_word': [t[1] for t in translations]}\n",
        "result_df = pl.DataFrame(result_data)\n",
        "# result_df"
      ],
      "metadata": {
        "colab": {
          "base_uri": "https://localhost:8080/"
        },
        "id": "-y7xuvsasf_Q",
        "outputId": "30954d18-77a1-4d24-f6e2-a907ddf8d3d6"
      },
      "execution_count": 49,
      "outputs": [
        {
          "output_type": "stream",
          "name": "stdout",
          "text": [
            "CPU times: user 845 µs, sys: 0 ns, total: 845 µs\n",
            "Wall time: 857 µs\n"
          ]
        }
      ]
    },
    {
      "cell_type": "markdown",
      "source": [
        "## Apply to the dataset"
      ],
      "metadata": {
        "id": "ExDBgzWz2aZB"
      }
    },
    {
      "cell_type": "code",
      "source": [
        "# Apply to 3 languages, for example\n",
        "\n",
        "en_de_ga_df = df.select(\"EN\", \"DE\", \"GA\")\n",
        "\n",
        "# If you create for the whole df, remove index\n",
        "# whole_df = df.select(pl.exclude(\"index\"))\n",
        "\n",
        "print(en_de_ga_df.shape)\n",
        "en_de_ga_df.head()"
      ],
      "metadata": {
        "colab": {
          "base_uri": "https://localhost:8080/",
          "height": 411
        },
        "id": "t_GCkTLwuNzc",
        "outputId": "f608f083-d2e1-4e4e-84b7-60d71c2fd9d5"
      },
      "execution_count": 22,
      "outputs": [
        {
          "output_type": "stream",
          "name": "stdout",
          "text": [
            "(3919, 3)\n"
          ]
        },
        {
          "output_type": "execute_result",
          "data": {
            "text/plain": [
              "shape: (5, 3)\n",
              "┌────────────────────────────────┬────────────────────────────────┬────────────────────────────────┐\n",
              "│ EN                             ┆ DE                             ┆ GA                             │\n",
              "│ ---                            ┆ ---                            ┆ ---                            │\n",
              "│ str                            ┆ str                            ┆ str                            │\n",
              "╞════════════════════════════════╪════════════════════════════════╪════════════════════════════════╡\n",
              "│ Vaccination against hepatitis  ┆ Es gibt derzeit noch keinen    ┆ Níl vacsaíniú ar fáil fós i    │\n",
              "│ C is not yet available.        ┆ Impfstoff gegen Hepatitis C.   ┆ gcoinne heipitítis C.          │\n",
              "│ HIV infection                  ┆ HIV-Infektion                  ┆ Ionfhabhtú VEID                │\n",
              "│ The human immunodeficiency     ┆ Das humane                     ┆ Tá an víreas easpa             │\n",
              "│ virus (HIV) remains one of the ┆ Immundefizienz-Virus HIV       ┆ imdhíonachta daonna (VEID) fós │\n",
              "│ most important communicable    ┆ gehört weiterhin zu den        ┆ ar cheann de na galair         │\n",
              "│ diseases in Europe.            ┆ bedeutendsten                  ┆ thógálacha is tábhachtaí san   │\n",
              "│                                ┆ Infektionserregern in Europa.  ┆ Eoraip.                        │\n",
              "│ It is an infection associated  ┆ Eine Infektion mit diesem      ┆ Is ionfhabhtú é a mbaineann    │\n",
              "│ with serious disease,          ┆ Virus führt zu ernsthaften     ┆ galar tromchúiseach leis,      │\n",
              "│ persistently high costs of     ┆ Erkrankungen, dauerhaft hohen  ┆ chomh maith le costais         │\n",
              "│ treatment and care,            ┆ Behandlungs- und Pflegekosten, ┆ cóireála agus cúraim síorarda, │\n",
              "│ significant number of deaths   ┆ einer hohen Zahl von           ┆ líon suntasach básanna agus    │\n",
              "│ and shortened life expectancy. ┆ Todesfällen und einer          ┆ ionchas saoil níos giorra.     │\n",
              "│                                ┆ verkürzten Lebenserwartung.    ┆                                │\n",
              "│ HIV is a virus, which attacks  ┆ HIV ist ein Virus, das das     ┆ Is víreas é VEID, a dhéanann   │\n",
              "│ the immune system and causes a ┆ Immunsystem angreift und nach  ┆ ionsaí ar an gcóras            │\n",
              "│ lifelong severe illness with a ┆ einer langen Inkubationszeit   ┆ imdhíonachta agus a            │\n",
              "│ long incubation period.        ┆ eine lebenslange schwere       ┆ chruthaíonn géarbhreoiteacht   │\n",
              "│                                ┆ Krankheit hervorruft.          ┆ ar feadh an tsaoil le tréimhse │\n",
              "│                                ┆                                ┆ ghoir fhada.                   │\n",
              "└────────────────────────────────┴────────────────────────────────┴────────────────────────────────┘"
            ],
            "text/html": [
              "<div><style>\n",
              ".dataframe > thead > tr > th,\n",
              ".dataframe > tbody > tr > td {\n",
              "  text-align: right;\n",
              "}\n",
              "</style>\n",
              "<small>shape: (5, 3)</small><table border=\"1\" class=\"dataframe\"><thead><tr><th>EN</th><th>DE</th><th>GA</th></tr><tr><td>str</td><td>str</td><td>str</td></tr></thead><tbody><tr><td>&quot;Vaccination against hepatitis C is not yet available.&quot;</td><td>&quot;Es gibt derzeit noch keinen Impfstoff gegen Hepatitis C.&quot;</td><td>&quot;Níl vacsaíniú ar fáil fós i gcoinne heipitítis C.&quot;</td></tr><tr><td>&quot;HIV infection&quot;</td><td>&quot;HIV-Infektion&quot;</td><td>&quot;Ionfhabhtú VEID&quot;</td></tr><tr><td>&quot;The human immunodeficiency virus (HIV) remains one of the most important communicable diseases in Europe.&quot;</td><td>&quot;Das humane Immundefizienz-Virus HIV gehört weiterhin zu den bedeutendsten Infektionserregern in Europa.&quot;</td><td>&quot;Tá an víreas easpa imdhíonachta daonna (VEID) fós ar cheann de na galair thógálacha is tábhachtaí san Eoraip.&quot;</td></tr><tr><td>&quot;It is an infection associated with serious disease, persistently high costs of treatment and care, significant number of deaths and shortened life expectancy.&quot;</td><td>&quot;Eine Infektion mit diesem Virus führt zu ernsthaften Erkrankungen, dauerhaft hohen Behandlungs- und Pflegekosten, einer hohen Zahl von Todesfällen und einer verkürzten Lebenserwartung.&quot;</td><td>&quot;Is ionfhabhtú é a mbaineann galar tromchúiseach leis, chomh maith le costais cóireála agus cúraim síorarda, líon suntasach básanna agus ionchas saoil níos giorra.&quot;</td></tr><tr><td>&quot;HIV is a virus, which attacks the immune system and causes a lifelong severe illness with a long incubation period.&quot;</td><td>&quot;HIV ist ein Virus, das das Immunsystem angreift und nach einer langen Inkubationszeit eine lebenslange schwere Krankheit hervorruft.&quot;</td><td>&quot;Is víreas é VEID, a dhéanann ionsaí ar an gcóras imdhíonachta agus a chruthaíonn géarbhreoiteacht ar feadh an tsaoil le tréimhse ghoir fhada.&quot;</td></tr></tbody></table></div>"
            ]
          },
          "metadata": {},
          "execution_count": 22
        }
      ]
    },
    {
      "cell_type": "code",
      "source": [
        "translations = []\n",
        "\n",
        "# Get the list of languages\n",
        "languages = en_de_ga_df.columns\n",
        "\n",
        "for from_lang in languages:\n",
        "  for to_lang in languages:\n",
        "    if from_lang != to_lang:\n",
        "      from_words = en_de_ga_df[from_lang]\n",
        "      to_words = en_de_ga_df[to_lang]\n",
        "      translations.extend(list(zip(from_words, to_words)))\n",
        "\n",
        "en_de_ga_result_data = {'Source': [t[0] for t in translations], 'Target': [t[1] for t in translations]}\n",
        "en_de_ga_result_df = pl.DataFrame(en_de_ga_result_data)\n",
        "\n",
        "# N of langs (3) * N of langs - 1 (2) * N of rows (3919)\n",
        "print(en_de_ga_result_df.shape)  # 3919 * 6 translation pairs\n",
        "\n",
        "# Drop null values\n",
        "en_de_ga_result_df = en_de_ga_result_df.drop_nulls()\n",
        "print(en_de_ga_result_df.shape)\n",
        "\n",
        "pl.Config.set_fmt_str_lengths(200)\n",
        "en_de_ga_result_df.head(10)"
      ],
      "metadata": {
        "colab": {
          "base_uri": "https://localhost:8080/",
          "height": 655
        },
        "id": "ayjmbYbzu4Yj",
        "outputId": "f9878267-44c6-41f8-fd27-912be83065b2"
      },
      "execution_count": 23,
      "outputs": [
        {
          "output_type": "stream",
          "name": "stdout",
          "text": [
            "(23514, 2)\n",
            "(10324, 2)\n"
          ]
        },
        {
          "output_type": "execute_result",
          "data": {
            "text/plain": [
              "shape: (10, 2)\n",
              "┌─────────────────────────────────────────────────┬────────────────────────────────────────────────┐\n",
              "│ Source                                          ┆ Target                                         │\n",
              "│ ---                                             ┆ ---                                            │\n",
              "│ str                                             ┆ str                                            │\n",
              "╞═════════════════════════════════════════════════╪════════════════════════════════════════════════╡\n",
              "│ Vaccination against hepatitis C is not yet      ┆ Es gibt derzeit noch keinen Impfstoff gegen    │\n",
              "│ available.                                      ┆ Hepatitis C.                                   │\n",
              "│ HIV infection                                   ┆ HIV-Infektion                                  │\n",
              "│ The human immunodeficiency virus (HIV) remains  ┆ Das humane Immundefizienz-Virus HIV gehört     │\n",
              "│ one of the most important communicable diseases ┆ weiterhin zu den bedeutendsten                 │\n",
              "│ in Europe.                                      ┆ Infektionserregern in Europa.                  │\n",
              "│ It is an infection associated with serious      ┆ Eine Infektion mit diesem Virus führt zu       │\n",
              "│ disease, persistently high costs of treatment   ┆ ernsthaften Erkrankungen, dauerhaft hohen      │\n",
              "│ and care, significant number of deaths and      ┆ Behandlungs- und Pflegekosten, einer hohen     │\n",
              "│ shortened life expectancy.                      ┆ Zahl von Todesfällen und einer verkürzten      │\n",
              "│                                                 ┆ Lebenserwartung.                               │\n",
              "│ …                                               ┆ …                                              │\n",
              "│ Babies born to HIV-infected women may become    ┆ Babys von HIV-infizierten Müttern können vor   │\n",
              "│ infected before or during birth or through      ┆ oder während der Geburt oder beim Stillen      │\n",
              "│ breast-feeding.                                 ┆ infiziert werden.                              │\n",
              "│ The end-stage of the infection, acquired        ┆ Das Endstadium der Infektion ist die           │\n",
              "│ immunodeficiency syndrome (AIDS), results from  ┆ AIDS-Krankheit, ein erworbenes                 │\n",
              "│ the destruction of the immune system.           ┆ Immundefektsyndrom, das durch die Zerstörung   │\n",
              "│                                                 ┆ des Immunsystems entsteht.                     │\n",
              "│ AIDS is defined by the presence of one or more  ┆ AIDS ist definiert als das Vorhandensein einer │\n",
              "│ “opportunistic” illnesses (other illnesses due  ┆ oder mehrerer opportunistischer Krankheiten,   │\n",
              "│ to decreased immunity).                         ┆ das heißt Krankheiten, die sich aufgrund des   │\n",
              "│                                                 ┆ geschwächten Immunsystems entwickeln konnten.  │\n",
              "│ Effective combination therapies, introduced in  ┆ Kombinationstherapien, die Mitte der 1990er    │\n",
              "│ the mid-1990s and widely used in industrialised ┆ Jahre eingeführt wurden und in den             │\n",
              "│ countries, have had a profound effect on the    ┆ Industrieländern auf breiter Front eingesetzt  │\n",
              "│ course of HIV infection, improving the quality  ┆ werden, sind wirksam und beeinflussen den      │\n",
              "│ of life and d…                                  ┆ Verlauf einer HIV-Infektion grund…             │\n",
              "└─────────────────────────────────────────────────┴────────────────────────────────────────────────┘"
            ],
            "text/html": [
              "<div><style>\n",
              ".dataframe > thead > tr > th,\n",
              ".dataframe > tbody > tr > td {\n",
              "  text-align: right;\n",
              "}\n",
              "</style>\n",
              "<small>shape: (10, 2)</small><table border=\"1\" class=\"dataframe\"><thead><tr><th>Source</th><th>Target</th></tr><tr><td>str</td><td>str</td></tr></thead><tbody><tr><td>&quot;Vaccination against hepatitis C is not yet available.&quot;</td><td>&quot;Es gibt derzeit noch keinen Impfstoff gegen Hepatitis C.&quot;</td></tr><tr><td>&quot;HIV infection&quot;</td><td>&quot;HIV-Infektion&quot;</td></tr><tr><td>&quot;The human immunodeficiency virus (HIV) remains one of the most important communicable diseases in Europe.&quot;</td><td>&quot;Das humane Immundefizienz-Virus HIV gehört weiterhin zu den bedeutendsten Infektionserregern in Europa.&quot;</td></tr><tr><td>&quot;It is an infection associated with serious disease, persistently high costs of treatment and care, significant number of deaths and shortened life expectancy.&quot;</td><td>&quot;Eine Infektion mit diesem Virus führt zu ernsthaften Erkrankungen, dauerhaft hohen Behandlungs- und Pflegekosten, einer hohen Zahl von Todesfällen und einer verkürzten Lebenserwartung.&quot;</td></tr><tr><td>&quot;HIV is a virus, which attacks the immune system and causes a lifelong severe illness with a long incubation period.&quot;</td><td>&quot;HIV ist ein Virus, das das Immunsystem angreift und nach einer langen Inkubationszeit eine lebenslange schwere Krankheit hervorruft.&quot;</td></tr><tr><td>&quot;HIV is spread by sexual contact with an infected person, by sharing needles or syringes (primarily for drug injection) with someone who is infected, or, less commonly (and now very rarely in countrie…</td><td>&quot;HIV wird übertragen durch den sexuellen Kontakt zu einer infizierten Person, die gemeinsame Benutzung von Nadeln oder Spritzen (vor allem beim Spritzen von Drogen) mit einer infizierten Person oder, …</td></tr><tr><td>&quot;Babies born to HIV-infected women may become infected before or during birth or through breast-feeding.&quot;</td><td>&quot;Babys von HIV-infizierten Müttern können vor oder während der Geburt oder beim Stillen infiziert werden.&quot;</td></tr><tr><td>&quot;The end-stage of the infection, acquired immunodeficiency syndrome (AIDS), results from the destruction of the immune system.&quot;</td><td>&quot;Das Endstadium der Infektion ist die AIDS-Krankheit, ein erworbenes Immundefektsyndrom, das durch die Zerstörung des Immunsystems entsteht.&quot;</td></tr><tr><td>&quot;AIDS is defined by the presence of one or more “opportunistic” illnesses (other illnesses due to decreased immunity).&quot;</td><td>&quot;AIDS ist definiert als das Vorhandensein einer oder mehrerer opportunistischer Krankheiten, das heißt Krankheiten, die sich aufgrund des geschwächten Immunsystems entwickeln konnten.&quot;</td></tr><tr><td>&quot;Effective combination therapies, introduced in the mid-1990s and widely used in industrialised countries, have had a profound effect on the course of HIV infection, improving the quality of life and …</td><td>&quot;Kombinationstherapien, die Mitte der 1990er Jahre eingeführt wurden und in den Industrieländern auf breiter Front eingesetzt werden, sind wirksam und beeinflussen den Verlauf einer HIV-Infektion grun…</td></tr></tbody></table></div>"
            ]
          },
          "metadata": {},
          "execution_count": 23
        }
      ]
    }
  ],
  "metadata": {
    "colab": {
      "provenance": [],
      "authorship_tag": "ABX9TyP1bcAZzYUiT5P8RheifH/r",
      "include_colab_link": true
    },
    "kernelspec": {
      "display_name": "Python 3",
      "name": "python3"
    },
    "language_info": {
      "name": "python"
    }
  },
  "nbformat": 4,
  "nbformat_minor": 0
}